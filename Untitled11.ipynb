{
 "cells": [
  {
   "cell_type": "code",
   "execution_count": null,
   "id": "67cb962e",
   "metadata": {},
   "outputs": [],
   "source": [
    " import cv2\n",
    "faceCascade=cv2.CascadeClassifier(r'D:\\haarcascade_frontalface_default.xml')\n",
    "img = cv2.imread(r'D:\\girl.jpg')\n",
    "imggray = cv2.cvtColor(img, cv2.COLOR_BGR2RGB)\n",
    "\n",
    "faces=faceCascade.detectMultiScale(imggray,1.1,4)\n",
    "for x, y, w, h in faces:\n",
    "    cv2.rectangle(img,(x,y),(x+w,y+h),(0,255,0),2)\n",
    "cv2.imshow(\"img\", img)\n",
    "cv2.waitKey(0)"
   ]
  },
  {
   "cell_type": "code",
   "execution_count": null,
   "id": "cf5bc4dc",
   "metadata": {},
   "outputs": [],
   "source": []
  }
 ],
 "metadata": {
  "kernelspec": {
   "display_name": "Python 3 (ipykernel)",
   "language": "python",
   "name": "python3"
  },
  "language_info": {
   "codemirror_mode": {
    "name": "ipython",
    "version": 3
   },
   "file_extension": ".py",
   "mimetype": "text/x-python",
   "name": "python",
   "nbconvert_exporter": "python",
   "pygments_lexer": "ipython3",
   "version": "3.11.4"
  }
 },
 "nbformat": 4,
 "nbformat_minor": 5
}
